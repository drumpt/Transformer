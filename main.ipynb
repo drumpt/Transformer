{
 "cells": [
  {
   "cell_type": "markdown",
   "metadata": {
    "id": "o4LUnjN2gquD"
   },
   "source": [
    "## Import libraries and choose device"
   ]
  },
  {
   "cell_type": "code",
   "execution_count": 3,
   "metadata": {
    "colab": {
     "base_uri": "https://localhost:8080/"
    },
    "executionInfo": {
     "elapsed": 3743,
     "status": "ok",
     "timestamp": 1617161510271,
     "user": {
      "displayName": "김창훈",
      "photoUrl": "",
      "userId": "04041019206976312811"
     },
     "user_tz": -540
    },
    "id": "cbhFmz90dJkm",
    "outputId": "ad59a3c3-826d-4861-d88c-8c1b230f7a69"
   },
   "outputs": [
    {
     "name": "stdout",
     "output_type": "stream",
     "text": [
      "Use cuda for torch\n"
     ]
    }
   ],
   "source": [
    "import os\n",
    "os.environ['CUDA_LAUNCH_BLOCKING'] = \"1\"\n",
    "os.environ[\"CUDA_VISIBLE_DEVICES\"] = \"0\"\n",
    "import math\n",
    "import easydict\n",
    "import gc\n",
    "import copy\n",
    "\n",
    "import numpy as np\n",
    "import torch\n",
    "import torch.nn as nn\n",
    "import torch.optim as optim\n",
    "import matplotlib.pyplot as plt\n",
    "from tqdm import tqdm\n",
    "\n",
    "from dataset.dataloader import load_data, get_loader\n",
    "from dataset.field import Vocab\n",
    "from utils import seq2sen\n",
    "\n",
    "if torch.cuda.is_available():\n",
    "    torch.cuda.set_device(0)\n",
    "    device = \"cuda\"\n",
    "else:\n",
    "    device = \"cpu\"\n",
    "# device = \"cpu\"\n",
    "print(f\"Use {device} for torch\")"
   ]
  },
  {
   "cell_type": "markdown",
   "metadata": {
    "id": "snOczaHygMn1"
   },
   "source": [
    "## Define Encoder"
   ]
  },
  {
   "cell_type": "code",
   "execution_count": 4,
   "metadata": {
    "executionInfo": {
     "elapsed": 3729,
     "status": "ok",
     "timestamp": 1617161510271,
     "user": {
      "displayName": "김창훈",
      "photoUrl": "",
      "userId": "04041019206976312811"
     },
     "user_tz": -540
    },
    "id": "DShYHtg1gNEP"
   },
   "outputs": [],
   "source": [
    "class Encoder(nn.Module):\n",
    "    def __init__(self, model_dim, h, N):\n",
    "        super().__init__()\n",
    "        self.model_dim = model_dim\n",
    "        self.h = h\n",
    "        self.N = N\n",
    "        self.layers = nn.ModuleList([copy.deepcopy(EncoderIdenticalLayer(self.model_dim, self.h)) for _ in range(self.N)]).to(device)\n",
    "    \n",
    "    def forward(self, x, src_mask):\n",
    "        for layer in self.layers:\n",
    "            x = layer(x, src_mask)\n",
    "        return x\n",
    "\n",
    "class EncoderIdenticalLayer(nn.Module):\n",
    "    def __init__(self, model_dim, h):\n",
    "        super().__init__()\n",
    "        self.model_dim = model_dim\n",
    "        self.h = h\n",
    "\n",
    "        self.w_i_Q_list = [nn.Linear(in_features = self.model_dim, out_features = self.model_dim // self.h).to(device) for _ in range(self.h)]\n",
    "        self.w_i_K_list = [nn.Linear(in_features = self.model_dim, out_features = self.model_dim // self.h).to(device) for _ in range(self.h)]\n",
    "        self.w_i_V_list = [nn.Linear(in_features = self.model_dim, out_features = self.model_dim // self.h).to(device) for _ in range(self.h)]\n",
    "        self.w_O = nn.Linear(in_features = self.model_dim, out_features = self.model_dim).to(device)\n",
    "        self.layer_normalization1 = nn.LayerNorm(self.model_dim).to(device) # exclude batch dimension\n",
    "\n",
    "        self.feed_forward_network1 = nn.Linear(in_features = 512, out_features = 2048).to(device)\n",
    "        self.feed_forward_network2 = nn.Linear(in_features = 2048, out_features = 512).to(device)\n",
    "        self.layer_normalization2 = nn.LayerNorm(self.model_dim).to(device)\n",
    "\n",
    "        self.dropout = nn.Dropout(p = 0.1).to(device)\n",
    "        self.softmax = nn.Softmax(dim = 2).to(device)\n",
    "        self.relu = nn.ReLU().to(device)\n",
    "\n",
    "    def forward(self, x, src_mask):\n",
    "        # Sublayer 1\n",
    "        ## Multi-Head Attention\n",
    "        splitted_x_list = []\n",
    "        for i in range(self.h):\n",
    "            in_softmax = torch.matmul(\n",
    "                self.w_i_Q_list[i](x),\n",
    "                self.w_i_K_list[i](x).transpose(1, 2)\n",
    "            ) / math.sqrt(self.model_dim // self.h)\n",
    "            in_softmax = in_softmax.masked_fill(src_mask == 0, -1e9)\n",
    "            out_softmax = self.w_i_V_list[i](x)\n",
    "            splitted_x = torch.matmul(self.softmax(in_softmax), out_softmax)\n",
    "            splitted_x_list.append(splitted_x)\n",
    "        concatenated_x = torch.cat(splitted_x_list, dim = 2)\n",
    "        multi_head_attention_output = self.dropout(self.w_O(concatenated_x))\n",
    "\n",
    "        ## Add & Layer Normalization\n",
    "        multi_head_attention_output += x\n",
    "        multi_head_attention_output = self.layer_normalization1(multi_head_attention_output)\n",
    "\n",
    "        # Sublayer 2\n",
    "        ## Position-wise Feed-Forward Network\n",
    "        ffn_output = self.feed_forward_network1(multi_head_attention_output)\n",
    "        ffn_output = self.relu(ffn_output)\n",
    "        ffn_output = self.feed_forward_network2(ffn_output)\n",
    "        ffn_output = self.dropout(ffn_output)\n",
    "\n",
    "        ## Add & Layer Normalization\n",
    "        ffn_output += multi_head_attention_output\n",
    "        ffn_output = self.layer_normalization2(ffn_output)\n",
    "        return ffn_output"
   ]
  },
  {
   "cell_type": "markdown",
   "metadata": {
    "id": "bbqLLbJQgXU_"
   },
   "source": [
    "## Define Decoder"
   ]
  },
  {
   "cell_type": "code",
   "execution_count": 5,
   "metadata": {
    "executionInfo": {
     "elapsed": 4216,
     "status": "ok",
     "timestamp": 1617161510761,
     "user": {
      "displayName": "김창훈",
      "photoUrl": "",
      "userId": "04041019206976312811"
     },
     "user_tz": -540
    },
    "id": "lPIVhaJ0gX78"
   },
   "outputs": [],
   "source": [
    "class Decoder(nn.Module):\n",
    "    def __init__(self, model_dim, h, N):\n",
    "        super().__init__()\n",
    "        self.model_dim = model_dim\n",
    "        self.h = h\n",
    "        self.N = N\n",
    "        self.layers = nn.ModuleList([copy.deepcopy(DecoderIdenticalLayer(self.model_dim, self.h)) for _ in range(self.N)]).to(device)\n",
    "\n",
    "    def forward(self, x, y, src_mask, tgt_mask): # x : decoder input, y : encoder output\n",
    "        for layer in self.layers:\n",
    "            x = layer(x, y, src_mask, tgt_mask)\n",
    "        return x\n",
    "\n",
    "class DecoderIdenticalLayer(nn.Module):\n",
    "    def __init__(self, model_dim, h):\n",
    "        super().__init__()\n",
    "        self.model_dim = model_dim\n",
    "        self.h = h\n",
    "\n",
    "        self.w_i_Q_list_first = [nn.Linear(in_features = self.model_dim, out_features = self.model_dim // self.h).to(device) for _ in range(self.h)]\n",
    "        self.w_i_K_list_first = [nn.Linear(in_features = self.model_dim, out_features = self.model_dim // self.h).to(device) for _ in range(self.h)]\n",
    "        self.w_i_V_list_first = [nn.Linear(in_features = self.model_dim, out_features = self.model_dim // self.h).to(device) for _ in range(self.h)]\n",
    "        self.w_O_first = nn.Linear(in_features = self.model_dim, out_features = self.model_dim).to(device)\n",
    "        self.layer_normalization1 = nn.LayerNorm(self.model_dim).to(device) # exclude batch dimension\n",
    "\n",
    "        self.w_i_Q_list_second = [nn.Linear(in_features = self.model_dim, out_features = self.model_dim // self.h).to(device) for _ in range(self.h)]\n",
    "        self.w_i_K_list_second = [nn.Linear(in_features = self.model_dim, out_features = self.model_dim // self.h).to(device) for _ in range(self.h)]\n",
    "        self.w_i_V_list_second = [nn.Linear(in_features = self.model_dim, out_features = self.model_dim // self.h).to(device) for _ in range(self.h)]\n",
    "        self.w_O_second = nn.Linear(in_features = self.model_dim, out_features = self.model_dim).to(device)\n",
    "        self.layer_normalization2 = nn.LayerNorm(self.model_dim).to(device) # exclude batch dimension\n",
    "        \n",
    "        self.feed_forward_network1 = nn.Linear(in_features = 512, out_features = 2048).to(device)\n",
    "        self.feed_forward_network2 = nn.Linear(in_features = 2048, out_features = 512).to(device)\n",
    "        self.layer_normalization3 = nn.LayerNorm(self.model_dim).to(device)\n",
    "\n",
    "        self.dropout = nn.Dropout(p = 0.1).to(device)\n",
    "        self.softmax = nn.Softmax(dim = 2).to(device)\n",
    "        self.relu = nn.ReLU().to(device)\n",
    "\n",
    "    def forward(self, x, y, src_mask, tgt_mask):\n",
    "        # Sublayer 1\n",
    "        ## Masked Multi-Head Attention\n",
    "        splitted_x_list = []\n",
    "        for i in range(self.h):\n",
    "            in_softmax = torch.matmul(\n",
    "                self.w_i_Q_list_first[i](x),\n",
    "                self.w_i_K_list_first[i](x).transpose(1, 2)\n",
    "            ) / math.sqrt(self.model_dim // self.h)\n",
    "            in_softmax = in_softmax.masked_fill(tgt_mask == 0, -1e9)\n",
    "            out_softmax = self.w_i_V_list_first[i](x)\n",
    "            splitted_x = torch.matmul(self.softmax(in_softmax), out_softmax)\n",
    "            splitted_x_list.append(splitted_x)\n",
    "        concatenated_x = torch.cat(splitted_x_list, dim = 2)\n",
    "        multi_head_attention_output_first = self.dropout(self.w_O_first(concatenated_x))\n",
    "\n",
    "        ## Add & Layer Normalization\n",
    "        multi_head_attention_output_first += x\n",
    "        multi_head_attention_output_first = self.layer_normalization1(multi_head_attention_output_first)\n",
    "\n",
    "        # Sublayer 2\n",
    "        ## Multi-Head Attention\n",
    "        \"\"\"\n",
    "        queries : come from previous decoder layer\n",
    "        keys, values : come from the output of the encoder\n",
    "        \"\"\"\n",
    "        splitted_x_list = []\n",
    "        for i in range(self.h):\n",
    "            in_softmax = torch.matmul(\n",
    "                self.w_i_Q_list_second[i](multi_head_attention_output_first),\n",
    "                self.w_i_K_list_second[i](y).transpose(1, 2)\n",
    "            ) / math.sqrt(self.model_dim // self.h)\n",
    "            in_softmax = in_softmax.masked_fill(src_mask == 0, -1e9)\n",
    "            out_softmax = self.w_i_V_list_second[i](y)\n",
    "            splitted_x = torch.matmul(self.softmax(in_softmax), out_softmax)\n",
    "            splitted_x_list.append(splitted_x)\n",
    "        concatenated_x = torch.cat(splitted_x_list, dim = 2)\n",
    "        multi_head_attention_output_second = self.dropout(self.w_O_second(concatenated_x))\n",
    "\n",
    "        ## Masked Multi-Head Attention\n",
    "        multi_head_attention_output_second += multi_head_attention_output_first\n",
    "        multi_head_attention_output_second = self.layer_normalization2(multi_head_attention_output_second)\n",
    "\n",
    "        # Sublayer 3\n",
    "        ## Feed-Forward Network\n",
    "        ffn_output = self.feed_forward_network1(multi_head_attention_output_second)\n",
    "        ffn_output = self.relu(ffn_output)\n",
    "        ffn_output = self.feed_forward_network2(ffn_output)\n",
    "        ffn_output = self.dropout(ffn_output)\n",
    "\n",
    "        ## Add & Layer Normalization\n",
    "        ffn_output += multi_head_attention_output_second\n",
    "        ffn_output = self.layer_normalization3(ffn_output)\n",
    "        return ffn_output"
   ]
  },
  {
   "cell_type": "markdown",
   "metadata": {
    "id": "YOinDT4ygmn7"
   },
   "source": [
    "## Define Transformer"
   ]
  },
  {
   "cell_type": "code",
   "execution_count": 6,
   "metadata": {
    "executionInfo": {
     "elapsed": 4215,
     "status": "ok",
     "timestamp": 1617161510762,
     "user": {
      "displayName": "김창훈",
      "photoUrl": "",
      "userId": "04041019206976312811"
     },
     "user_tz": -540
    },
    "id": "Jaef9wnGf9Co"
   },
   "outputs": [],
   "source": [
    "class Transformer(nn.Module):\n",
    "    def __init__(self, model_dim, src_vocab_size, tgt_vocab_size, max_length):\n",
    "        super().__init__()\n",
    "        self.model_dim = model_dim\n",
    "        self.src_vocab_size = src_vocab_size\n",
    "        self.tgt_vocab_size = tgt_vocab_size\n",
    "        self.max_length = max_length\n",
    "        self.h = 8\n",
    "        self.N = 6\n",
    "\n",
    "        self.positional_encoding_constants = self.get_positional_encoding_constants(model_dim = self.model_dim).to(device)\n",
    "        self.input_embedding = nn.Embedding(num_embeddings = self.src_vocab_size, embedding_dim = self.model_dim, padding_idx = 2).to(device)\n",
    "        self.output_embedding = nn.Embedding(num_embeddings = self.tgt_vocab_size, embedding_dim = self.model_dim, padding_idx = 2).to(device)\n",
    "        self.embedding_dropout = nn.Dropout(p = 0.1).to(device)\n",
    "        self.encoder = Encoder(self.model_dim, self.h, self.N).to(device)\n",
    "        self.decoder = Decoder(self.model_dim, self.h, self.N).to(device)\n",
    "        self.final_linear = nn.Linear(self.model_dim, self.tgt_vocab_size).to(device)\n",
    "\n",
    "    def forward(self, encoder_input, decoder_input, src_mask, tgt_mask):\n",
    "        encoder_input = self.embedding_dropout(self.positional_encoding(self.input_embedding(encoder_input) * math.sqrt(self.model_dim)))\n",
    "        encoder_output = self.encoder(encoder_input, src_mask)\n",
    "        decoder_output = self.decoder(self.embedding_dropout(self.positional_encoding(self.output_embedding(decoder_input) * math.sqrt(self.model_dim))), encoder_output, src_mask, tgt_mask)\n",
    "        final_output = self.final_linear(decoder_output)\n",
    "        return final_output\n",
    "\n",
    "    def positional_encoding(self, embedded_sentence):\n",
    "        encoding_result = embedded_sentence + self.positional_encoding_constants[:, :embedded_sentence.shape[1], :]\n",
    "        return encoding_result\n",
    "        \n",
    "    def get_positional_encoding_constants(self, model_dim):\n",
    "        # calculate positional encoding constants only once to avoid redundant calculations\n",
    "        positional_encoding_constants = []\n",
    "        for pos in range(self.max_length):\n",
    "            pos_constants = []\n",
    "            for idx in range(model_dim):\n",
    "                if idx % 2 == 0: # idx = 2 * i -> 2 * i = idx\n",
    "                    pos_constants.append(math.sin(pos / (10000 ** (idx / model_dim))))\n",
    "                else: # idx = 2 * i + 1 -> 2 * i = idx - 1\n",
    "                    pos_constants.append(math.cos(pos / (10000 ** ((idx  - 1) / model_dim))))\n",
    "            positional_encoding_constants.append(pos_constants)\n",
    "        return torch.tensor(positional_encoding_constants).unsqueeze(0)\n",
    "    \n",
    "    def save_model(self, output_path, epoch, loss, val_loss):\n",
    "        if not os.path.exists(output_path):\n",
    "            os.makedirs(output_path)\n",
    "\n",
    "        output_filename = os.path.join(output_path, f\"weights_{epoch:03d}_{loss:.4f}_{val_loss:.4f}.pt\")\n",
    "        torch.save(self.state_dict(), output_filename)\n",
    "        return output_filename\n",
    "\n",
    "    def plot(self, output_path, history):\n",
    "        plt.subplot(2, 1, 1)\n",
    "        plt.title('Accuracy versus Epoch')\n",
    "        plt.plot(history['accuracy'])\n",
    "        plt.plot(history['val_accuracy'])\n",
    "        plt.legend(['accuracy', 'val_accuracy'], loc = 'upper right')\n",
    "        plt.xlabel('Epoch')\n",
    "        plt.ylabel('Accuracy')\n",
    "\n",
    "        plt.subplot(2, 1, 2)\n",
    "        plt.title('Loss versus Epoch')\n",
    "        plt.plot(history['loss'])\n",
    "        plt.plot(history['val_loss'])\n",
    "        plt.legend(['loss', 'val_loss'], loc = 'upper right')\n",
    "        plt.xlabel('Epoch')\n",
    "        plt.ylabel('Loss')\n",
    "\n",
    "        plt.tight_layout()\n",
    "        plt.savefig(os.path.join(output_path, \"training_result.png\"))"
   ]
  },
  {
   "cell_type": "markdown",
   "metadata": {
    "id": "-PN9SGQ7g4na"
   },
   "source": [
    "## Define loss function and some functions"
   ]
  },
  {
   "cell_type": "code",
   "execution_count": 7,
   "metadata": {
    "colab": {
     "base_uri": "https://localhost:8080/",
     "height": 282
    },
    "executionInfo": {
     "elapsed": 663,
     "status": "ok",
     "timestamp": 1617162761367,
     "user": {
      "displayName": "김창훈",
      "photoUrl": "",
      "userId": "04041019206976312811"
     },
     "user_tz": -540
    },
    "id": "oLL55nlkg4VV",
    "outputId": "5c5c56b1-794f-4cf3-cd8a-14612e67a1b0"
   },
   "outputs": [
    {
     "data": {
      "text/plain": [
       "[<matplotlib.lines.Line2D at 0x7f62f8c44f50>]"
      ]
     },
     "execution_count": 7,
     "metadata": {},
     "output_type": "execute_result"
    },
    {
     "data": {
      "image/png": "[encoded data removed]",
      "text/plain": [
       "<Figure size 432x288 with 1 Axes>"
      ]
     },
     "metadata": {
      "needs_background": "light"
     },
     "output_type": "display_data"
    }
   ],
   "source": [
    "def get_mask(batch, pad_idx, is_target = False): # 0 : unavailable\n",
    "    mask = (batch != pad_idx).unsqueeze(-2).to(device)\n",
    "    if is_target:\n",
    "        target_mask = torch.tensor(np.tril(np.ones((1, batch.size(-1), batch.size(-1)))), dtype = torch.bool).to(device)\n",
    "        mask = mask & target_mask\n",
    "    return mask\n",
    "\n",
    "def get_learning_rate(model_dim, step_num, warmup_steps):\n",
    "    return (model_dim ** (-0.5)) * min(step_num ** (-0.5), step_num * (warmup_steps ** (-1.5)))\n",
    "\n",
    "plt.plot(np.arange(1, 20000), [get_learning_rate(512, i, 4000) for i in range(1, 20000)])"
   ]
  },
  {
   "cell_type": "markdown",
   "metadata": {
    "id": "czg4Glm3jfev"
   },
   "source": [
    "## Define main function\n",
    "\n"
   ]
  },
  {
   "cell_type": "code",
   "execution_count": 8,
   "metadata": {
    "executionInfo": {
     "elapsed": 867,
     "status": "ok",
     "timestamp": 1617162763446,
     "user": {
      "displayName": "김창훈",
      "photoUrl": "",
      "userId": "04041019206976312811"
     },
     "user_tz": -540
    },
    "id": "ZZBkM66Lc7FG"
   },
   "outputs": [],
   "source": [
    "def main(args):\n",
    "    src, tgt = load_data(args.path)\n",
    "\n",
    "    src_vocab = Vocab(init_token='<sos>', eos_token='<eos>', pad_token='<pad>', unk_token='<unk>')\n",
    "    src_vocab.load(os.path.join(args.path, 'vocab.en'))\n",
    "    tgt_vocab = Vocab(init_token='<sos>', eos_token='<eos>', pad_token='<pad>', unk_token='<unk>')\n",
    "    tgt_vocab.load(os.path.join(args.path, 'vocab.de'))\n",
    "\n",
    "    sos_idx = 0\n",
    "    eos_idx = 1\n",
    "    pad_idx = 2\n",
    "    max_length = 50\n",
    "\n",
    "    src_vocab_size = len(src_vocab)\n",
    "    tgt_vocab_size = len(tgt_vocab)\n",
    "\n",
    "    print(src_vocab_size)\n",
    "    print(tgt_vocab_size)\n",
    "    \n",
    "    # Define training parameters\n",
    "    model_dim = 512\n",
    "    warmup_steps = 4000\n",
    "\n",
    "    # Define model\n",
    "    transformer = Transformer(model_dim, src_vocab_size, tgt_vocab_size, max_length)\n",
    "    for param in transformer.parameters():\n",
    "        if param.dim() > 1:\n",
    "            nn.init.xavier_uniform_(param)\n",
    "    if args.test and args.model_path: # test\n",
    "        transformer.load_state_dict(torch.load(args.model_path))\n",
    "        transformer.eval()\n",
    "\n",
    "    # Define optimizer\n",
    "    step_num = 1\n",
    "    learning_rate = get_learning_rate(model_dim, step_num, warmup_steps)\n",
    "    optimizer = optim.Adam(transformer.parameters(), lr = learning_rate)\n",
    "\n",
    "    # Define loss function\n",
    "    train_loss_function = nn.CrossEntropyLoss(ignore_index = pad_idx).to(device)\n",
    "    validation_loss_function = nn.CrossEntropyLoss(ignore_index = pad_idx).to(device)\n",
    "\n",
    "    if not args.test:\n",
    "        train_loader = get_loader(src['train'], tgt['train'], src_vocab, tgt_vocab, batch_size=args.batch_size, shuffle=True)\n",
    "        valid_loader = get_loader(src['valid'], tgt['valid'], src_vocab, tgt_vocab, batch_size=args.batch_size)\n",
    "\n",
    "        history = {\n",
    "            \"loss\" : [],\n",
    "            \"val_loss\" : [],\n",
    "            \"accuracy\" : [],\n",
    "            \"val_accuracy\" : []\n",
    "        }\n",
    "\n",
    "        for epoch in range(1, args.epochs + 1):\n",
    "            print(f\"Epoch {epoch}/{args.epochs}\")\n",
    "            total_train_size, total_validation_size = 0, 0\n",
    "            epoch_train_loss, epoch_validation_loss = 0, 0\n",
    "            epoch_train_correct, epoch_validation_correct = 0, 0\n",
    "\n",
    "            for src_batch, tgt_batch in tqdm(train_loader):\n",
    "            # for src_batch, tgt_batch in train_loader:\n",
    "                # update learning rate first\n",
    "                learning_rate = get_learning_rate(model_dim, step_num, warmup_steps)\n",
    "                for g in optimizer.param_groups:\n",
    "                    g['lr'] = learning_rate\n",
    "                optimizer.zero_grad()\n",
    "\n",
    "                src_mask = get_mask(torch.tensor(src_batch), pad_idx, is_target = False)\n",
    "                tgt_mask = get_mask(torch.tensor(tgt_batch)[:, :-1], pad_idx, is_target = True)\n",
    "\n",
    "                prd_batch = transformer(torch.tensor(src_batch).to(device), torch.tensor(tgt_batch)[:, :-1].to(device), src_mask.to(device), tgt_mask.to(device))\n",
    "                loss = train_loss_function( \\\n",
    "                    torch.tensor(prd_batch.reshape(-1, tgt_vocab_size), dtype = torch.float, requires_grad = True).clone().to(device), \\\n",
    "                    torch.tensor(tgt_batch)[:, 1:].reshape(-1).clone().to(device) \\\n",
    "                )\n",
    "                loss.backward()\n",
    "                optimizer.step()\n",
    "                step_num += 1\n",
    "\n",
    "                total_train_size += len(src_batch)\n",
    "                epoch_train_loss += loss.data\n",
    "                epoch_train_correct += int(torch.sum(torch.argmax(torch.tensor(prd_batch).data, -1) == torch.tensor(tgt_batch).data[:, 1:].to(device)))\n",
    "\n",
    "                gc.collect()\n",
    "                if \"cuda\" in device:\n",
    "                    torch.cuda.empty_cache()\n",
    "\n",
    "            epoch_train_loss /= total_train_size\n",
    "            epoch_train_accuracy = epoch_train_correct / total_train_size\n",
    "\n",
    "            history[\"loss\"].append(epoch_train_loss)    \n",
    "            history[\"accuracy\"].append(epoch_train_accuracy)\n",
    "\n",
    "            for src_batch, tgt_batch in tqdm(valid_loader):\n",
    "                src_mask = get_mask(torch.tensor(src_batch), pad_idx, is_target = False)\n",
    "                tgt_mask = get_mask(torch.tensor(tgt_batch)[:, :-1], pad_idx, is_target = True)\n",
    "\n",
    "                prd_batch = transformer(torch.tensor(src_batch).to(device), torch.tensor(tgt_batch)[:, :-1].to(device), src_mask.to(device), tgt_mask.to(device))\n",
    "                loss = validation_loss_function( \\\n",
    "                    torch.tensor(prd_batch.reshape(-1, tgt_vocab_size), dtype = torch.float, requires_grad = True).clone().to(device), \\\n",
    "                    torch.tensor(tgt_batch)[:, 1:].reshape(-1).clone().to(device) \\\n",
    "                )\n",
    "\n",
    "                total_validation_size += len(src_batch)\n",
    "                epoch_validation_loss += loss.data\n",
    "                epoch_validation_correct += int(torch.sum(torch.argmax(torch.tensor(prd_batch).data, -1) == torch.tensor(tgt_batch).data[:, 1:].to(device)))\n",
    "\n",
    "                gc.collect()\n",
    "                if \"cuda\" in device:\n",
    "                    torch.cuda.empty_cache()\n",
    "\n",
    "            epoch_validation_loss /= total_validation_size\n",
    "            epoch_validation_accuracy = epoch_validation_correct / total_validation_size\n",
    "\n",
    "            history[\"val_loss\"].append(epoch_validation_loss)\n",
    "            history[\"val_accuracy\"].append(epoch_validation_accuracy)\n",
    "\n",
    "            print(f\"loss : {epoch_train_loss:.6f}, val_loss : {epoch_validation_loss:.6f}\") \n",
    "            print(f\"accuracy : {epoch_train_accuracy:.6f}, val_accuracy : {epoch_validation_accuracy:.6f}\")\n",
    "\n",
    "            transformer.save_model(args.output_path, epoch, epoch_train_loss, epoch_validation_loss)\n",
    "            transformer.plot(args.output_path, history)\n",
    "\n",
    "    else: # test\n",
    "        test_loader = get_loader(src['test'], tgt['test'], src_vocab, tgt_vocab, batch_size=args.batch_size)\n",
    "\n",
    "        pred = []\n",
    "        for src_batch, tgt_batch in tqdm(test_loader):\n",
    "            result_batch = torch.tensor([sos_idx for _ in range(len(src_batch))]).unsqueeze(-1)\n",
    "            for idx in range(max_length):\n",
    "                if idx == max_length - 1:\n",
    "                    pred_batch = torch.full((len(src_batch), 1), eos_idx)\n",
    "                else:\n",
    "                    src_mask = get_mask(torch.tensor(src_batch), pad_idx, is_target = False)\n",
    "                    result_mask = get_mask(torch.tensor(result_batch), pad_idx, is_target = True)\n",
    "\n",
    "                    pred_batch = transformer(torch.tensor(src_batch).to(device), result_batch.to(device), src_mask.to(device), result_mask.to(device))[:, -1, :] # consider only last result\n",
    "                    pred_batch[:, sos_idx] += -1e9 # exclude <sos>\n",
    "                    pred_batch[:, pad_idx] += -1e9 # exclude <pad>\n",
    "                    pred_batch = torch.argmax(pred_batch, dim = -1).unsqueeze(-1)\n",
    "                result_batch = torch.cat((result_batch.to(device), pred_batch.to(device)), dim = -1)\n",
    "            result_batch = result_batch[1:, :] # remove <sos> from the result\n",
    "\n",
    "            max_length = 0\n",
    "            for batch_idx in range(result_batch.shape[0]):\n",
    "                max_length = max(max_length, list(result_batch[batch_idx]).index(eos_idx)) # find <eos>\n",
    "            result_batch = result_batch[:max_length, :].tolist()\n",
    "            pred += seq2sen(result_batch, tgt_vocab)\n",
    "\n",
    "            gc.collect()\n",
    "            if \"cuda\" in deivce:\n",
    "                torch.cuda.empty_cache()\n",
    "\n",
    "        with open('results/pred.txt', 'w') as f:\n",
    "            for line in pred:\n",
    "                f.write('{}\\n'.format(line))\n",
    "            f.close()\n",
    "\n",
    "        os.system('bash scripts/bleu.sh results/pred.txt multi30k/test.de.atok')"
   ]
  },
  {
   "cell_type": "markdown",
   "metadata": {
    "id": "0cbk70xZjZdQ"
   },
   "source": [
    "## Run main function"
   ]
  },
  {
   "cell_type": "code",
   "execution_count": 9,
   "metadata": {
    "colab": {
     "base_uri": "https://localhost:8080/"
    },
    "executionInfo": {
     "elapsed": 58730,
     "status": "ok",
     "timestamp": 1617162822541,
     "user": {
      "displayName": "김창훈",
      "photoUrl": "",
      "userId": "04041019206976312811"
     },
     "user_tz": -540
    },
    "id": "DgIAJkvTjhAB",
    "outputId": "10f92ef7-0839-441a-c4d9-a90cb2bd8c56"
   },
   "outputs": [
    {
     "name": "stdout",
     "output_type": "stream",
     "text": [
      "3935\n",
      "4376\n",
      "Epoch 1/100\n"
     ]
    },
    {
     "name": "stderr",
     "output_type": "stream",
     "text": [
      "0it [00:00, ?it/s]/usr/local/lib/python3.7/dist-packages/ipykernel_launcher.py:72: UserWarning: To copy construct from a tensor, it is recommended to use sourceTensor.clone().detach() or sourceTensor.clone().detach().requires_grad_(True), rather than torch.tensor(sourceTensor).\n",
      "/usr/local/lib/python3.7/dist-packages/ipykernel_launcher.py:81: UserWarning: To copy construct from a tensor, it is recommended to use sourceTensor.clone().detach() or sourceTensor.clone().detach().requires_grad_(True), rather than torch.tensor(sourceTensor).\n",
      "80it [00:15,  5.29it/s]\n"
     ]
    },
    {
     "ename": "KeyboardInterrupt",
     "evalue": "",
     "output_type": "error",
     "traceback": [
      "\u001b[0;31m---------------------------------------------------------------------------\u001b[0m",
      "\u001b[0;31mKeyboardInterrupt\u001b[0m                         Traceback (most recent call last)",
      "\u001b[0;32m/tmp/ipykernel_8589/456975736.py\u001b[0m in \u001b[0;36m<module>\u001b[0;34m\u001b[0m\n\u001b[1;32m      8\u001b[0m })\n\u001b[1;32m      9\u001b[0m \u001b[0;34m\u001b[0m\u001b[0m\n\u001b[0;32m---> 10\u001b[0;31m \u001b[0mmain\u001b[0m\u001b[0;34m(\u001b[0m\u001b[0margs\u001b[0m\u001b[0;34m)\u001b[0m\u001b[0;34m\u001b[0m\u001b[0;34m\u001b[0m\u001b[0m\n\u001b[0m",
      "\u001b[0;32m/tmp/ipykernel_8589/2804019064.py\u001b[0m in \u001b[0;36mmain\u001b[0;34m(args)\u001b[0m\n\u001b[1;32m     68\u001b[0m                 \u001b[0mtgt_mask\u001b[0m \u001b[0;34m=\u001b[0m \u001b[0mget_mask\u001b[0m\u001b[0;34m(\u001b[0m\u001b[0mtorch\u001b[0m\u001b[0;34m.\u001b[0m\u001b[0mtensor\u001b[0m\u001b[0;34m(\u001b[0m\u001b[0mtgt_batch\u001b[0m\u001b[0;34m)\u001b[0m\u001b[0;34m[\u001b[0m\u001b[0;34m:\u001b[0m\u001b[0;34m,\u001b[0m \u001b[0;34m:\u001b[0m\u001b[0;34m-\u001b[0m\u001b[0;36m1\u001b[0m\u001b[0;34m]\u001b[0m\u001b[0;34m,\u001b[0m \u001b[0mpad_idx\u001b[0m\u001b[0;34m,\u001b[0m \u001b[0mis_target\u001b[0m \u001b[0;34m=\u001b[0m \u001b[0;32mTrue\u001b[0m\u001b[0;34m)\u001b[0m\u001b[0;34m\u001b[0m\u001b[0;34m\u001b[0m\u001b[0m\n\u001b[1;32m     69\u001b[0m \u001b[0;34m\u001b[0m\u001b[0m\n\u001b[0;32m---> 70\u001b[0;31m                 \u001b[0mprd_batch\u001b[0m \u001b[0;34m=\u001b[0m \u001b[0mtransformer\u001b[0m\u001b[0;34m(\u001b[0m\u001b[0mtorch\u001b[0m\u001b[0;34m.\u001b[0m\u001b[0mtensor\u001b[0m\u001b[0;34m(\u001b[0m\u001b[0msrc_batch\u001b[0m\u001b[0;34m)\u001b[0m\u001b[0;34m.\u001b[0m\u001b[0mto\u001b[0m\u001b[0;34m(\u001b[0m\u001b[0mdevice\u001b[0m\u001b[0;34m)\u001b[0m\u001b[0;34m,\u001b[0m \u001b[0mtorch\u001b[0m\u001b[0;34m.\u001b[0m\u001b[0mtensor\u001b[0m\u001b[0;34m(\u001b[0m\u001b[0mtgt_batch\u001b[0m\u001b[0;34m)\u001b[0m\u001b[0;34m[\u001b[0m\u001b[0;34m:\u001b[0m\u001b[0;34m,\u001b[0m \u001b[0;34m:\u001b[0m\u001b[0;34m-\u001b[0m\u001b[0;36m1\u001b[0m\u001b[0;34m]\u001b[0m\u001b[0;34m.\u001b[0m\u001b[0mto\u001b[0m\u001b[0;34m(\u001b[0m\u001b[0mdevice\u001b[0m\u001b[0;34m)\u001b[0m\u001b[0;34m,\u001b[0m \u001b[0msrc_mask\u001b[0m\u001b[0;34m.\u001b[0m\u001b[0mto\u001b[0m\u001b[0;34m(\u001b[0m\u001b[0mdevice\u001b[0m\u001b[0;34m)\u001b[0m\u001b[0;34m,\u001b[0m \u001b[0mtgt_mask\u001b[0m\u001b[0;34m.\u001b[0m\u001b[0mto\u001b[0m\u001b[0;34m(\u001b[0m\u001b[0mdevice\u001b[0m\u001b[0;34m)\u001b[0m\u001b[0;34m)\u001b[0m\u001b[0;34m\u001b[0m\u001b[0;34m\u001b[0m\u001b[0m\n\u001b[0m\u001b[1;32m     71\u001b[0m                 loss = train_loss_function( \\\n\u001b[1;32m     72\u001b[0m                     \u001b[0mtorch\u001b[0m\u001b[0;34m.\u001b[0m\u001b[0mtensor\u001b[0m\u001b[0;34m(\u001b[0m\u001b[0mprd_batch\u001b[0m\u001b[0;34m.\u001b[0m\u001b[0mreshape\u001b[0m\u001b[0;34m(\u001b[0m\u001b[0;34m-\u001b[0m\u001b[0;36m1\u001b[0m\u001b[0;34m,\u001b[0m \u001b[0mtgt_vocab_size\u001b[0m\u001b[0;34m)\u001b[0m\u001b[0;34m,\u001b[0m \u001b[0mdtype\u001b[0m \u001b[0;34m=\u001b[0m \u001b[0mtorch\u001b[0m\u001b[0;34m.\u001b[0m\u001b[0mfloat\u001b[0m\u001b[0;34m,\u001b[0m \u001b[0mrequires_grad\u001b[0m \u001b[0;34m=\u001b[0m \u001b[0;32mTrue\u001b[0m\u001b[0;34m)\u001b[0m\u001b[0;34m.\u001b[0m\u001b[0mclone\u001b[0m\u001b[0;34m(\u001b[0m\u001b[0;34m)\u001b[0m\u001b[0;34m.\u001b[0m\u001b[0mto\u001b[0m\u001b[0;34m(\u001b[0m\u001b[0mdevice\u001b[0m\u001b[0;34m)\u001b[0m\u001b[0;34m,\u001b[0m\u001b[0;31m \u001b[0m\u001b[0;31m\\\u001b[0m\u001b[0;34m\u001b[0m\u001b[0;34m\u001b[0m\u001b[0m\n",
      "\u001b[0;32m/usr/local/lib/python3.7/dist-packages/torch/nn/modules/module.py\u001b[0m in \u001b[0;36m_call_impl\u001b[0;34m(self, *input, **kwargs)\u001b[0m\n\u001b[1;32m    887\u001b[0m             \u001b[0mresult\u001b[0m \u001b[0;34m=\u001b[0m \u001b[0mself\u001b[0m\u001b[0;34m.\u001b[0m\u001b[0m_slow_forward\u001b[0m\u001b[0;34m(\u001b[0m\u001b[0;34m*\u001b[0m\u001b[0minput\u001b[0m\u001b[0;34m,\u001b[0m \u001b[0;34m**\u001b[0m\u001b[0mkwargs\u001b[0m\u001b[0;34m)\u001b[0m\u001b[0;34m\u001b[0m\u001b[0;34m\u001b[0m\u001b[0m\n\u001b[1;32m    888\u001b[0m         \u001b[0;32melse\u001b[0m\u001b[0;34m:\u001b[0m\u001b[0;34m\u001b[0m\u001b[0;34m\u001b[0m\u001b[0m\n\u001b[0;32m--> 889\u001b[0;31m             \u001b[0mresult\u001b[0m \u001b[0;34m=\u001b[0m \u001b[0mself\u001b[0m\u001b[0;34m.\u001b[0m\u001b[0mforward\u001b[0m\u001b[0;34m(\u001b[0m\u001b[0;34m*\u001b[0m\u001b[0minput\u001b[0m\u001b[0;34m,\u001b[0m \u001b[0;34m**\u001b[0m\u001b[0mkwargs\u001b[0m\u001b[0;34m)\u001b[0m\u001b[0;34m\u001b[0m\u001b[0;34m\u001b[0m\u001b[0m\n\u001b[0m\u001b[1;32m    890\u001b[0m         for hook in itertools.chain(\n\u001b[1;32m    891\u001b[0m                 \u001b[0m_global_forward_hooks\u001b[0m\u001b[0;34m.\u001b[0m\u001b[0mvalues\u001b[0m\u001b[0;34m(\u001b[0m\u001b[0;34m)\u001b[0m\u001b[0;34m,\u001b[0m\u001b[0;34m\u001b[0m\u001b[0;34m\u001b[0m\u001b[0m\n",
      "\u001b[0;32m/tmp/ipykernel_8589/3671322784.py\u001b[0m in \u001b[0;36mforward\u001b[0;34m(self, encoder_input, decoder_input, src_mask, tgt_mask)\u001b[0m\n\u001b[1;32m     20\u001b[0m         \u001b[0mencoder_input\u001b[0m \u001b[0;34m=\u001b[0m \u001b[0mself\u001b[0m\u001b[0;34m.\u001b[0m\u001b[0membedding_dropout\u001b[0m\u001b[0;34m(\u001b[0m\u001b[0mself\u001b[0m\u001b[0;34m.\u001b[0m\u001b[0mpositional_encoding\u001b[0m\u001b[0;34m(\u001b[0m\u001b[0mself\u001b[0m\u001b[0;34m.\u001b[0m\u001b[0minput_embedding\u001b[0m\u001b[0;34m(\u001b[0m\u001b[0mencoder_input\u001b[0m\u001b[0;34m)\u001b[0m \u001b[0;34m*\u001b[0m \u001b[0mmath\u001b[0m\u001b[0;34m.\u001b[0m\u001b[0msqrt\u001b[0m\u001b[0;34m(\u001b[0m\u001b[0mself\u001b[0m\u001b[0;34m.\u001b[0m\u001b[0mmodel_dim\u001b[0m\u001b[0;34m)\u001b[0m\u001b[0;34m)\u001b[0m\u001b[0;34m)\u001b[0m\u001b[0;34m\u001b[0m\u001b[0;34m\u001b[0m\u001b[0m\n\u001b[1;32m     21\u001b[0m         \u001b[0mencoder_output\u001b[0m \u001b[0;34m=\u001b[0m \u001b[0mself\u001b[0m\u001b[0;34m.\u001b[0m\u001b[0mencoder\u001b[0m\u001b[0;34m(\u001b[0m\u001b[0mencoder_input\u001b[0m\u001b[0;34m,\u001b[0m \u001b[0msrc_mask\u001b[0m\u001b[0;34m)\u001b[0m\u001b[0;34m\u001b[0m\u001b[0;34m\u001b[0m\u001b[0m\n\u001b[0;32m---> 22\u001b[0;31m         \u001b[0mdecoder_output\u001b[0m \u001b[0;34m=\u001b[0m \u001b[0mself\u001b[0m\u001b[0;34m.\u001b[0m\u001b[0mdecoder\u001b[0m\u001b[0;34m(\u001b[0m\u001b[0mself\u001b[0m\u001b[0;34m.\u001b[0m\u001b[0membedding_dropout\u001b[0m\u001b[0;34m(\u001b[0m\u001b[0mself\u001b[0m\u001b[0;34m.\u001b[0m\u001b[0mpositional_encoding\u001b[0m\u001b[0;34m(\u001b[0m\u001b[0mself\u001b[0m\u001b[0;34m.\u001b[0m\u001b[0moutput_embedding\u001b[0m\u001b[0;34m(\u001b[0m\u001b[0mdecoder_input\u001b[0m\u001b[0;34m)\u001b[0m \u001b[0;34m*\u001b[0m \u001b[0mmath\u001b[0m\u001b[0;34m.\u001b[0m\u001b[0msqrt\u001b[0m\u001b[0;34m(\u001b[0m\u001b[0mself\u001b[0m\u001b[0;34m.\u001b[0m\u001b[0mmodel_dim\u001b[0m\u001b[0;34m)\u001b[0m\u001b[0;34m)\u001b[0m\u001b[0;34m)\u001b[0m\u001b[0;34m,\u001b[0m \u001b[0mencoder_output\u001b[0m\u001b[0;34m,\u001b[0m \u001b[0msrc_mask\u001b[0m\u001b[0;34m,\u001b[0m \u001b[0mtgt_mask\u001b[0m\u001b[0;34m)\u001b[0m\u001b[0;34m\u001b[0m\u001b[0;34m\u001b[0m\u001b[0m\n\u001b[0m\u001b[1;32m     23\u001b[0m         \u001b[0mfinal_output\u001b[0m \u001b[0;34m=\u001b[0m \u001b[0mself\u001b[0m\u001b[0;34m.\u001b[0m\u001b[0mfinal_linear\u001b[0m\u001b[0;34m(\u001b[0m\u001b[0mdecoder_output\u001b[0m\u001b[0;34m)\u001b[0m\u001b[0;34m\u001b[0m\u001b[0;34m\u001b[0m\u001b[0m\n\u001b[1;32m     24\u001b[0m         \u001b[0;32mreturn\u001b[0m \u001b[0mfinal_output\u001b[0m\u001b[0;34m\u001b[0m\u001b[0;34m\u001b[0m\u001b[0m\n",
      "\u001b[0;32m/usr/local/lib/python3.7/dist-packages/torch/nn/modules/module.py\u001b[0m in \u001b[0;36m_call_impl\u001b[0;34m(self, *input, **kwargs)\u001b[0m\n\u001b[1;32m    887\u001b[0m             \u001b[0mresult\u001b[0m \u001b[0;34m=\u001b[0m \u001b[0mself\u001b[0m\u001b[0;34m.\u001b[0m\u001b[0m_slow_forward\u001b[0m\u001b[0;34m(\u001b[0m\u001b[0;34m*\u001b[0m\u001b[0minput\u001b[0m\u001b[0;34m,\u001b[0m \u001b[0;34m**\u001b[0m\u001b[0mkwargs\u001b[0m\u001b[0;34m)\u001b[0m\u001b[0;34m\u001b[0m\u001b[0;34m\u001b[0m\u001b[0m\n\u001b[1;32m    888\u001b[0m         \u001b[0;32melse\u001b[0m\u001b[0;34m:\u001b[0m\u001b[0;34m\u001b[0m\u001b[0;34m\u001b[0m\u001b[0m\n\u001b[0;32m--> 889\u001b[0;31m             \u001b[0mresult\u001b[0m \u001b[0;34m=\u001b[0m \u001b[0mself\u001b[0m\u001b[0;34m.\u001b[0m\u001b[0mforward\u001b[0m\u001b[0;34m(\u001b[0m\u001b[0;34m*\u001b[0m\u001b[0minput\u001b[0m\u001b[0;34m,\u001b[0m \u001b[0;34m**\u001b[0m\u001b[0mkwargs\u001b[0m\u001b[0;34m)\u001b[0m\u001b[0;34m\u001b[0m\u001b[0;34m\u001b[0m\u001b[0m\n\u001b[0m\u001b[1;32m    890\u001b[0m         for hook in itertools.chain(\n\u001b[1;32m    891\u001b[0m                 \u001b[0m_global_forward_hooks\u001b[0m\u001b[0;34m.\u001b[0m\u001b[0mvalues\u001b[0m\u001b[0;34m(\u001b[0m\u001b[0;34m)\u001b[0m\u001b[0;34m,\u001b[0m\u001b[0;34m\u001b[0m\u001b[0;34m\u001b[0m\u001b[0m\n",
      "\u001b[0;32m/tmp/ipykernel_8589/2486979552.py\u001b[0m in \u001b[0;36mforward\u001b[0;34m(self, x, y, src_mask, tgt_mask)\u001b[0m\n\u001b[1;32m      9\u001b[0m     \u001b[0;32mdef\u001b[0m \u001b[0mforward\u001b[0m\u001b[0;34m(\u001b[0m\u001b[0mself\u001b[0m\u001b[0;34m,\u001b[0m \u001b[0mx\u001b[0m\u001b[0;34m,\u001b[0m \u001b[0my\u001b[0m\u001b[0;34m,\u001b[0m \u001b[0msrc_mask\u001b[0m\u001b[0;34m,\u001b[0m \u001b[0mtgt_mask\u001b[0m\u001b[0;34m)\u001b[0m\u001b[0;34m:\u001b[0m \u001b[0;31m# x : decoder input, y : encoder output\u001b[0m\u001b[0;34m\u001b[0m\u001b[0;34m\u001b[0m\u001b[0m\n\u001b[1;32m     10\u001b[0m         \u001b[0;32mfor\u001b[0m \u001b[0mlayer\u001b[0m \u001b[0;32min\u001b[0m \u001b[0mself\u001b[0m\u001b[0;34m.\u001b[0m\u001b[0mlayers\u001b[0m\u001b[0;34m:\u001b[0m\u001b[0;34m\u001b[0m\u001b[0;34m\u001b[0m\u001b[0m\n\u001b[0;32m---> 11\u001b[0;31m             \u001b[0mx\u001b[0m \u001b[0;34m=\u001b[0m \u001b[0mlayer\u001b[0m\u001b[0;34m(\u001b[0m\u001b[0mx\u001b[0m\u001b[0;34m,\u001b[0m \u001b[0my\u001b[0m\u001b[0;34m,\u001b[0m \u001b[0msrc_mask\u001b[0m\u001b[0;34m,\u001b[0m \u001b[0mtgt_mask\u001b[0m\u001b[0;34m)\u001b[0m\u001b[0;34m\u001b[0m\u001b[0;34m\u001b[0m\u001b[0m\n\u001b[0m\u001b[1;32m     12\u001b[0m         \u001b[0;32mreturn\u001b[0m \u001b[0mx\u001b[0m\u001b[0;34m\u001b[0m\u001b[0;34m\u001b[0m\u001b[0m\n\u001b[1;32m     13\u001b[0m \u001b[0;34m\u001b[0m\u001b[0m\n",
      "\u001b[0;32m/usr/local/lib/python3.7/dist-packages/torch/nn/modules/module.py\u001b[0m in \u001b[0;36m_call_impl\u001b[0;34m(self, *input, **kwargs)\u001b[0m\n\u001b[1;32m    887\u001b[0m             \u001b[0mresult\u001b[0m \u001b[0;34m=\u001b[0m \u001b[0mself\u001b[0m\u001b[0;34m.\u001b[0m\u001b[0m_slow_forward\u001b[0m\u001b[0;34m(\u001b[0m\u001b[0;34m*\u001b[0m\u001b[0minput\u001b[0m\u001b[0;34m,\u001b[0m \u001b[0;34m**\u001b[0m\u001b[0mkwargs\u001b[0m\u001b[0;34m)\u001b[0m\u001b[0;34m\u001b[0m\u001b[0;34m\u001b[0m\u001b[0m\n\u001b[1;32m    888\u001b[0m         \u001b[0;32melse\u001b[0m\u001b[0;34m:\u001b[0m\u001b[0;34m\u001b[0m\u001b[0;34m\u001b[0m\u001b[0m\n\u001b[0;32m--> 889\u001b[0;31m             \u001b[0mresult\u001b[0m \u001b[0;34m=\u001b[0m \u001b[0mself\u001b[0m\u001b[0;34m.\u001b[0m\u001b[0mforward\u001b[0m\u001b[0;34m(\u001b[0m\u001b[0;34m*\u001b[0m\u001b[0minput\u001b[0m\u001b[0;34m,\u001b[0m \u001b[0;34m**\u001b[0m\u001b[0mkwargs\u001b[0m\u001b[0;34m)\u001b[0m\u001b[0;34m\u001b[0m\u001b[0;34m\u001b[0m\u001b[0m\n\u001b[0m\u001b[1;32m    890\u001b[0m         for hook in itertools.chain(\n\u001b[1;32m    891\u001b[0m                 \u001b[0m_global_forward_hooks\u001b[0m\u001b[0;34m.\u001b[0m\u001b[0mvalues\u001b[0m\u001b[0;34m(\u001b[0m\u001b[0;34m)\u001b[0m\u001b[0;34m,\u001b[0m\u001b[0;34m\u001b[0m\u001b[0;34m\u001b[0m\u001b[0m\n",
      "\u001b[0;32m/tmp/ipykernel_8589/2486979552.py\u001b[0m in \u001b[0;36mforward\u001b[0;34m(self, x, y, src_mask, tgt_mask)\u001b[0m\n\u001b[1;32m     68\u001b[0m             in_softmax = torch.matmul(\n\u001b[1;32m     69\u001b[0m                 \u001b[0mself\u001b[0m\u001b[0;34m.\u001b[0m\u001b[0mw_i_Q_list_second\u001b[0m\u001b[0;34m[\u001b[0m\u001b[0mi\u001b[0m\u001b[0;34m]\u001b[0m\u001b[0;34m(\u001b[0m\u001b[0mmulti_head_attention_output_first\u001b[0m\u001b[0;34m)\u001b[0m\u001b[0;34m,\u001b[0m\u001b[0;34m\u001b[0m\u001b[0;34m\u001b[0m\u001b[0m\n\u001b[0;32m---> 70\u001b[0;31m                 \u001b[0mself\u001b[0m\u001b[0;34m.\u001b[0m\u001b[0mw_i_K_list_second\u001b[0m\u001b[0;34m[\u001b[0m\u001b[0mi\u001b[0m\u001b[0;34m]\u001b[0m\u001b[0;34m(\u001b[0m\u001b[0my\u001b[0m\u001b[0;34m)\u001b[0m\u001b[0;34m.\u001b[0m\u001b[0mtranspose\u001b[0m\u001b[0;34m(\u001b[0m\u001b[0;36m1\u001b[0m\u001b[0;34m,\u001b[0m \u001b[0;36m2\u001b[0m\u001b[0;34m)\u001b[0m\u001b[0;34m\u001b[0m\u001b[0;34m\u001b[0m\u001b[0m\n\u001b[0m\u001b[1;32m     71\u001b[0m             ) / math.sqrt(self.model_dim // self.h)\n\u001b[1;32m     72\u001b[0m             \u001b[0min_softmax\u001b[0m \u001b[0;34m=\u001b[0m \u001b[0min_softmax\u001b[0m\u001b[0;34m.\u001b[0m\u001b[0mmasked_fill\u001b[0m\u001b[0;34m(\u001b[0m\u001b[0msrc_mask\u001b[0m \u001b[0;34m==\u001b[0m \u001b[0;36m0\u001b[0m\u001b[0;34m,\u001b[0m \u001b[0;34m-\u001b[0m\u001b[0;36m1e9\u001b[0m\u001b[0;34m)\u001b[0m\u001b[0;34m\u001b[0m\u001b[0;34m\u001b[0m\u001b[0m\n",
      "\u001b[0;31mKeyboardInterrupt\u001b[0m: "
     ]
    }
   ],
   "source": [
    "args = easydict.EasyDict({\n",
    "    \"path\": \"multi30k\",\n",
    "    \"epochs\": 100,\n",
    "    \"batch_size\": 32,\n",
    "    \"test\": False,\n",
    "    \"output_path\": \"resources\",\n",
    "    \"model_path\": \"resources/weights_010_0.0663_0.0668.pt\"\n",
    "})\n",
    "\n",
    "main(args)"
   ]
  }
 ],
 "metadata": {
  "accelerator": "GPU",
  "colab": {
   "authorship_tag": "ABX9TyOj6gTpW90Nwe+xleMLDfbJ",
   "collapsed_sections": [],
   "machine_shape": "hm",
   "name": "main.ipynb",
   "provenance": []
  },
  "kernelspec": {
   "display_name": "Python 3 (ipykernel)",
   "language": "python",
   "name": "python3"
  },
  "language_info": {
   "codemirror_mode": {
    "name": "ipython",
    "version": 3
   },
   "file_extension": ".py",
   "mimetype": "text/x-python",
   "name": "python",
   "nbconvert_exporter": "python",
   "pygments_lexer": "ipython3",
   "version": "3.7.10"
  }
 },
 "nbformat": 4,
 "nbformat_minor": 4
}
